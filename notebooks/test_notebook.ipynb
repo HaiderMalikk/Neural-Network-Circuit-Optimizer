{
 "cells": [
  {
   "cell_type": "markdown",
   "metadata": {},
   "source": [
    "### This is where the tests will be done before moving to the src folder for implementation"
   ]
  }
 ],
 "metadata": {
  "language_info": {
   "name": "python"
  }
 },
 "nbformat": 4,
 "nbformat_minor": 2
}
